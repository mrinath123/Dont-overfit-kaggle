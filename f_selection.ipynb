{
 "cells": [
  {
   "cell_type": "code",
   "execution_count": 2,
   "metadata": {},
   "outputs": [],
   "source": [
    "import pandas as pd\n",
    "from sklearn import model_selection\n",
    "import matplotlib.pyplot as plt\n",
    "import seaborn as sns\n",
    "import numpy as np\n",
    "from sklearn.preprocessing import RobustScaler\n",
    "from sklearn.pipeline import Pipeline\n",
    "from sklearn.dummy import DummyClassifier\n",
    "from sklearn.svm import SVC\n",
    "from sklearn.feature_selection import SelectKBest\n",
    "from sklearn.feature_selection import f_classif\n",
    "from sklearn.metrics import roc_auc_score\n",
    "\n",
    "%matplotlib inline"
   ]
  },
  {
   "cell_type": "markdown",
   "metadata": {},
   "source": [
    "Model = knn, p= 25"
   ]
  },
  {
   "cell_type": "code",
   "execution_count": 104,
   "metadata": {},
   "outputs": [],
   "source": [
    "from sklearn.neighbors import KNeighborsClassifier\n",
    "def run(fold):\n",
    "    df=pd.read_csv(\"train_folds.csv\")\n",
    "    df_train = df[df.fold != fold].reset_index(drop=True)\n",
    "    df_valid = df[df.fold == fold].reset_index(drop=True)\n",
    "    \n",
    "    x_train = df_train.drop([\"target\",'id','fold'], axis=1).values\n",
    "    y_train = df_train.target.values\n",
    "    \n",
    "    x_valid = df_valid.drop([\"target\",'id','fold'], axis=1).values\n",
    "    y_valid = df_valid.target.values\n",
    "    \n",
    "    pipe=Pipeline([('scaler', RobustScaler()),('select',SelectKBest(f_classif, k=25)),('knn',KNeighborsClassifier())])\n",
    "    \n",
    "    pipe.fit(x_train,y_train)\n",
    "    \n",
    "    preds = pipe.predict_proba(x_valid)\n",
    "    \n",
    "    auroc = roc_auc_score(y_valid,preds[:,-1])\n",
    "    \n",
    "    print(f\"Fold={fold}, Auc={auroc}\")\n",
    "    \n",
    "    \n",
    "    "
   ]
  },
  {
   "cell_type": "code",
   "execution_count": 105,
   "metadata": {},
   "outputs": [
    {
     "name": "stdout",
     "output_type": "stream",
     "text": [
      "Fold=0, Auc=0.7690972222222221\n",
      "Fold=1, Auc=0.5425347222222222\n",
      "Fold=2, Auc=0.6883680555555556\n",
      "Fold=3, Auc=0.5789930555555556\n",
      "Fold=4, Auc=0.5772569444444444\n"
     ]
    }
   ],
   "source": [
    "run(0)\n",
    "run(1)\n",
    "run(2)\n",
    "run(3)\n",
    "run(4)"
   ]
  },
  {
   "cell_type": "markdown",
   "metadata": {},
   "source": [
    "model=knn  p=10"
   ]
  },
  {
   "cell_type": "code",
   "execution_count": 106,
   "metadata": {},
   "outputs": [],
   "source": [
    "from sklearn.neighbors import KNeighborsClassifier\n",
    "def run(fold):\n",
    "    df=pd.read_csv(\"train_folds.csv\")\n",
    "    df_train = df[df.fold != fold].reset_index(drop=True)\n",
    "    df_valid = df[df.fold == fold].reset_index(drop=True)\n",
    "    \n",
    "    x_train = df_train.drop([\"target\",'id','fold'], axis=1).values\n",
    "    y_train = df_train.target.values\n",
    "    \n",
    "    x_valid = df_valid.drop([\"target\",'id','fold'], axis=1).values\n",
    "    y_valid = df_valid.target.values\n",
    "    \n",
    "    pipe=Pipeline([('scaler', RobustScaler()),('select',SelectKBest(f_classif, k=10)),('knn',KNeighborsClassifier())])\n",
    "    \n",
    "    pipe.fit(x_train,y_train)\n",
    "    \n",
    "    preds = pipe.predict_proba(x_valid)\n",
    "    \n",
    "    auroc = roc_auc_score(y_valid,preds[:,-1])\n",
    "    \n",
    "    print(f\"Fold={fold}, Auc={auroc}\")\n",
    "    "
   ]
  },
  {
   "cell_type": "code",
   "execution_count": 107,
   "metadata": {},
   "outputs": [
    {
     "name": "stdout",
     "output_type": "stream",
     "text": [
      "Fold=0, Auc=0.7612847222222223\n",
      "Fold=1, Auc=0.6380208333333334\n",
      "Fold=2, Auc=0.6328125\n",
      "Fold=3, Auc=0.7682291666666667\n",
      "Fold=4, Auc=0.6944444444444445\n"
     ]
    }
   ],
   "source": [
    "run(0)\n",
    "run(1)\n",
    "run(2)\n",
    "run(3)\n",
    "run(4)"
   ]
  },
  {
   "cell_type": "markdown",
   "metadata": {},
   "source": [
    "k=25, model= rf( not using scaling here )"
   ]
  },
  {
   "cell_type": "code",
   "execution_count": 59,
   "metadata": {},
   "outputs": [],
   "source": [
    "from sklearn.ensemble import RandomForestClassifier\n",
    "def run(fold):\n",
    "    df=pd.read_csv(\"train_folds.csv\")\n",
    "    df_train = df[df.fold != fold].reset_index(drop=True)\n",
    "    df_valid = df[df.fold == fold].reset_index(drop=True)\n",
    "    \n",
    "    x_train = df_train.drop([\"target\",'id','fold'], axis=1).values\n",
    "    y_train = df_train.target.values\n",
    "    \n",
    "    x_valid = df_valid.drop([\"target\",'id','fold'], axis=1).values\n",
    "    y_valid = df_valid.target.values\n",
    "    \n",
    "    pipe=Pipeline([('select',SelectKBest(f_classif, k=25)),('rfe',RandomForestClassifier())])\n",
    "    \n",
    "    pipe.fit(x_train,y_train)\n",
    "    \n",
    "    preds = pipe.predict_proba(x_valid)\n",
    "    auroc = roc_auc_score(y_valid,preds[:,-1])\n",
    "    \n",
    "    print(f\"Fold={fold}, Auc={auroc}\")"
   ]
  },
  {
   "cell_type": "code",
   "execution_count": 88,
   "metadata": {},
   "outputs": [
    {
     "name": "stdout",
     "output_type": "stream",
     "text": [
      "Fold=0, Auc=0.8663194444444444\n",
      "Fold=1, Auc=0.7491319444444444\n",
      "Fold=2, Auc=0.7317708333333334\n",
      "Fold=3, Auc=0.7378472222222222\n",
      "Fold=4, Auc=0.6067708333333333\n",
      "Mean=0.706\n"
     ]
    }
   ],
   "source": [
    "run(0)\n",
    "run(1)\n",
    "run(2)\n",
    "run(3)\n",
    "run(4)\n",
    "print(f\"Mean={0.706}\")"
   ]
  },
  {
   "cell_type": "markdown",
   "metadata": {},
   "source": [
    "model=rf, k=10"
   ]
  },
  {
   "cell_type": "code",
   "execution_count": 86,
   "metadata": {},
   "outputs": [],
   "source": [
    "from sklearn.ensemble import RandomForestClassifier\n",
    "def run(fold):\n",
    "    df=pd.read_csv(\"train_folds.csv\")\n",
    "    df_train = df[df.fold != fold].reset_index(drop=True)\n",
    "    df_valid = df[df.fold == fold].reset_index(drop=True)\n",
    "    \n",
    "    x_train = df_train.drop([\"target\",'id','fold'], axis=1).values\n",
    "    y_train = df_train.target.values\n",
    "    \n",
    "    x_valid = df_valid.drop([\"target\",'id','fold'], axis=1).values\n",
    "    y_valid = df_valid.target.values\n",
    "    \n",
    "    pipe=Pipeline([('select',SelectKBest(f_classif, k=10)),('rfe',RandomForestClassifier())])\n",
    "    \n",
    "    pipe.fit(x_train,y_train)\n",
    "    \n",
    "    preds = pipe.predict_proba(x_valid)\n",
    "    auroc = roc_auc_score(y_valid,preds[:,-1])\n",
    "    \n",
    "    print(f\"Fold={fold}, Auc={auroc}\")"
   ]
  },
  {
   "cell_type": "code",
   "execution_count": 87,
   "metadata": {},
   "outputs": [
    {
     "name": "stdout",
     "output_type": "stream",
     "text": [
      "Fold=0, Auc=0.8576388888888888\n",
      "Fold=1, Auc=0.7664930555555556\n",
      "Fold=2, Auc=0.7282986111111112\n",
      "Fold=3, Auc=0.7621527777777778\n",
      "Fold=4, Auc=0.6241319444444444\n"
     ]
    }
   ],
   "source": [
    "run(0)\n",
    "run(1)\n",
    "run(2)\n",
    "run(3)\n",
    "run(4)"
   ]
  },
  {
   "cell_type": "markdown",
   "metadata": {},
   "source": [
    "model= logistic, k=25"
   ]
  },
  {
   "cell_type": "code",
   "execution_count": 82,
   "metadata": {},
   "outputs": [],
   "source": [
    "from sklearn.linear_model import LogisticRegression\n",
    "def run(fold):\n",
    "    df=pd.read_csv(\"train_folds.csv\")\n",
    "    df_train = df[df.fold != fold].reset_index(drop=True)\n",
    "    df_valid = df[df.fold == fold].reset_index(drop=True)\n",
    "    \n",
    "    x_train = df_train.drop([\"target\",'id','fold'], axis=1).values\n",
    "    y_train = df_train.target.values\n",
    "    \n",
    "    x_valid = df_valid.drop([\"target\",'id','fold'], axis=1).values\n",
    "    y_valid = df_valid.target.values\n",
    "    \n",
    "    pipe=Pipeline([('scaler', RobustScaler()),('select',SelectKBest(f_classif, k=25)),('lg',LogisticRegression())])\n",
    "    \n",
    "    pipe.fit(x_train,y_train)\n",
    "    \n",
    "    preds = pipe.predict_proba(x_valid)\n",
    "    auroc = roc_auc_score(y_valid,preds[:,-1])\n",
    "    \n",
    "    print(f\"Fold={fold}, Auc={auroc}\")"
   ]
  },
  {
   "cell_type": "code",
   "execution_count": 89,
   "metadata": {},
   "outputs": [
    {
     "name": "stdout",
     "output_type": "stream",
     "text": [
      "Fold=0, Auc=0.8732638888888888\n",
      "Fold=1, Auc=0.7847222222222222\n",
      "Fold=2, Auc=0.7456597222222222\n",
      "Fold=3, Auc=0.6779513888888888\n",
      "Fold=4, Auc=0.6276041666666667\n",
      "Mean=0.754\n"
     ]
    }
   ],
   "source": [
    "run(0)\n",
    "run(1)\n",
    "run(2)\n",
    "run(3)\n",
    "run(4)\n",
    "print(f\"Mean={0.754}\")"
   ]
  },
  {
   "cell_type": "markdown",
   "metadata": {},
   "source": [
    "model=lg, k=10"
   ]
  },
  {
   "cell_type": "code",
   "execution_count": 84,
   "metadata": {},
   "outputs": [],
   "source": [
    "from sklearn.linear_model import LogisticRegression\n",
    "def run(fold):\n",
    "    df=pd.read_csv(\"train_folds.csv\")\n",
    "    df_train = df[df.fold != fold].reset_index(drop=True)\n",
    "    df_valid = df[df.fold == fold].reset_index(drop=True)\n",
    "    \n",
    "    x_train = df_train.drop([\"target\",'id','fold'], axis=1).values\n",
    "    y_train = df_train.target.values\n",
    "    \n",
    "    x_valid = df_valid.drop([\"target\",'id','fold'], axis=1).values\n",
    "    y_valid = df_valid.target.values\n",
    "    \n",
    "    pipe=Pipeline([('scaler', RobustScaler()),('select',SelectKBest(f_classif, k=10)),('lg',LogisticRegression())])\n",
    "    \n",
    "    pipe.fit(x_train,y_train)\n",
    "    \n",
    "    preds = pipe.predict_proba(x_valid)\n",
    "    auroc = roc_auc_score(y_valid,preds[:,-1])\n",
    "    \n",
    "    print(f\"Fold={fold}, Auc={auroc}\")"
   ]
  },
  {
   "cell_type": "code",
   "execution_count": 85,
   "metadata": {},
   "outputs": [
    {
     "name": "stdout",
     "output_type": "stream",
     "text": [
      "Fold=0, Auc=0.8177083333333334\n",
      "Fold=1, Auc=0.6961805555555556\n",
      "Fold=2, Auc=0.7482638888888888\n",
      "Fold=3, Auc=0.7708333333333333\n",
      "Fold=4, Auc=0.7100694444444444\n"
     ]
    }
   ],
   "source": [
    "run(0)\n",
    "run(1)\n",
    "run(2)\n",
    "run(3)\n",
    "run(4)"
   ]
  },
  {
   "cell_type": "code",
   "execution_count": 109,
   "metadata": {},
   "outputs": [],
   "source": [
    "def run(fold):\n",
    "    df=pd.read_csv(\"train_folds.csv\")\n",
    "    df_train = df[df.fold != fold].reset_index(drop=True)\n",
    "    df_valid = df[df.fold == fold].reset_index(drop=True)\n",
    "    \n",
    "    x_train = df_train.drop([\"target\",'id','fold'], axis=1).values\n",
    "    y_train = df_train.target.values\n",
    "    \n",
    "    x_valid = df_valid.drop([\"target\",'id','fold'], axis=1).values\n",
    "    y_valid = df_valid.target.values\n",
    "    \n",
    "    pipe=Pipeline([('scaler', RobustScaler()),('select',SelectKBest(f_classif, k=25)),('svc',SVC(probability=True))])\n",
    "    \n",
    "    pipe.fit(x_train,y_train)\n",
    "    \n",
    "    preds = pipe.predict_proba(x_valid)\n",
    "    \n",
    "    auroc = roc_auc_score(y_valid,preds[:,-1])\n",
    "    \n",
    "    print(f\"Fold={fold}, Auc={auroc}\")\n",
    "    "
   ]
  },
  {
   "cell_type": "code",
   "execution_count": 110,
   "metadata": {},
   "outputs": [
    {
     "name": "stdout",
     "output_type": "stream",
     "text": [
      "Fold=0, Auc=0.876736111111111\n",
      "Fold=1, Auc=0.6857638888888888\n",
      "Fold=2, Auc=0.7621527777777778\n",
      "Fold=3, Auc=0.7291666666666666\n",
      "Fold=4, Auc=0.626736111111111\n"
     ]
    }
   ],
   "source": [
    "run(0)\n",
    "run(1)\n",
    "run(2)\n",
    "run(3)\n",
    "run(4)"
   ]
  },
  {
   "cell_type": "code",
   "execution_count": 113,
   "metadata": {},
   "outputs": [],
   "source": [
    "def run(fold):\n",
    "    df=pd.read_csv(\"train_folds.csv\")\n",
    "    df_train = df[df.fold != fold].reset_index(drop=True)\n",
    "    df_valid = df[df.fold == fold].reset_index(drop=True)\n",
    "    \n",
    "    x_train = df_train.drop([\"target\",'id','fold'], axis=1).values\n",
    "    y_train = df_train.target.values\n",
    "    \n",
    "    x_valid = df_valid.drop([\"target\",'id','fold'], axis=1).values\n",
    "    y_valid = df_valid.target.values\n",
    "    \n",
    "    pipe=Pipeline([('scaler', RobustScaler()),('select',SelectKBest(f_classif, k=10)),('svc',SVC(probability=True))])\n",
    "    \n",
    "    pipe.fit(x_train,y_train)\n",
    "    \n",
    "    preds = pipe.predict_proba(x_valid)\n",
    "    \n",
    "    auroc = roc_auc_score(y_valid,preds[:,-1])\n",
    "    \n",
    "    print(f\"Fold={fold}, Auc={auroc}\")"
   ]
  },
  {
   "cell_type": "code",
   "execution_count": 114,
   "metadata": {},
   "outputs": [
    {
     "name": "stdout",
     "output_type": "stream",
     "text": [
      "Fold=0, Auc=0.8194444444444444\n",
      "Fold=1, Auc=0.7048611111111112\n",
      "Fold=2, Auc=0.7395833333333333\n",
      "Fold=3, Auc=0.7769097222222223\n",
      "Fold=4, Auc=0.6510416666666666\n"
     ]
    }
   ],
   "source": [
    "run(0)\n",
    "run(1)\n",
    "run(2)\n",
    "run(3)\n",
    "run(4)"
   ]
  },
  {
   "cell_type": "markdown",
   "metadata": {},
   "source": [
    "FINALLY k is choosen as 10 for rf"
   ]
  },
  {
   "cell_type": "markdown",
   "metadata": {},
   "source": [
    "FINALLY k is choosen as 25 for lg"
   ]
  },
  {
   "cell_type": "markdown",
   "metadata": {},
   "source": [
    "FINALLY k is choosen as 10 for knn"
   ]
  },
  {
   "cell_type": "markdown",
   "metadata": {},
   "source": [
    "FINALLY k is choosen as 25 for svc"
   ]
  }
 ],
 "metadata": {
  "kernelspec": {
   "display_name": "Python 3",
   "language": "python",
   "name": "python3"
  },
  "language_info": {
   "codemirror_mode": {
    "name": "ipython",
    "version": 3
   },
   "file_extension": ".py",
   "mimetype": "text/x-python",
   "name": "python",
   "nbconvert_exporter": "python",
   "pygments_lexer": "ipython3",
   "version": "3.7.1"
  }
 },
 "nbformat": 4,
 "nbformat_minor": 4
}
